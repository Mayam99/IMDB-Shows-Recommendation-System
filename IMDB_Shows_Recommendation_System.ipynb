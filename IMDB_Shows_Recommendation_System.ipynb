{
  "nbformat": 4,
  "nbformat_minor": 0,
  "metadata": {
    "colab": {
      "provenance": []
    },
    "kernelspec": {
      "name": "python3",
      "display_name": "Python 3"
    },
    "language_info": {
      "name": "python"
    }
  },
  "cells": [
    {
      "cell_type": "markdown",
      "source": [
        "##Introduction to the IMDB Top 250 Shows Dataset\n",
        "###The IMDB Top 250 Shows dataset is a comprehensive collection of information about the top-rated television shows as ranked by the Internet Movie Database (IMDB). This dataset is widely used for analysis and development of recommendation systems, providing insights into the attributes that make these shows popular among viewers.\n",
        "\n",
        "###This dataset is having the data of the top 250 Shows as per their IMDB rating listed on the official website of IMDB\n",
        "\n",
        "###Features\n",
        "\n",
        "* rank - Show Rank as per IMDB rating\n",
        "* show_id - Show ID\n",
        "* title - Name of the Show\n",
        "* year - Year of Show release\n",
        "* link - URL for the Show\n",
        "* imdb_votes - Number of people who voted for the IMDB rating\n",
        "* imdb_rating - Rating of the Show\n",
        "* certificate - Show Certification\n",
        "* duration - Duration of the Show\n",
        "* genre - Genre of the Show\n",
        "* cast_id - ID of the cast member who have worked on the Show\n",
        "* cast_name - Name of the cast member who have worked on the Show\n",
        "* director_id - ID of the director who have directed the Show\n",
        "* director_name - Name of the director who have directed the Show\n",
        "* writer_id - ID of the writer who have wrote script for the Show\n",
        "* writer_name - Name of the writer who have wrote script for the Show\n",
        "* storyline - Storyline of the Show\n",
        "* user_id - ID of the user who wrote review for the Show\n",
        "* user_name - Name of the user who wrote review for the Show\n",
        "* review_id - ID of the user review\n",
        "* review_title - Short review\n",
        "* review_content - Long review\n",
        "\n",
        "\n",
        "##Source\n",
        "\n",
        "https://www.kaggle.com/datasets/karkavelrajaj/imdb-top-250-shows/data"
      ],
      "metadata": {
        "id": "5HVjkh48dhKB"
      }
    },
    {
      "cell_type": "markdown",
      "source": [
        "##Importing Necessary Libraries"
      ],
      "metadata": {
        "id": "Elvf8DWGe8Oi"
      }
    },
    {
      "cell_type": "code",
      "execution_count": 1,
      "metadata": {
        "id": "TXoplPrcZ3r1"
      },
      "outputs": [],
      "source": [
        "import pandas as pd #Pandas is a powerful library for data manipulation and analysis."
      ]
    },
    {
      "cell_type": "code",
      "source": [
        "df = pd.read_csv('shows.csv') #Loading the dataset."
      ],
      "metadata": {
        "id": "-E8LwWNGgY8r"
      },
      "execution_count": 2,
      "outputs": []
    },
    {
      "cell_type": "markdown",
      "source": [
        "###We will now read the data from a CSV file into a Pandas DataFrame Let us have a look at how our dataset looks like using df.head()"
      ],
      "metadata": {
        "id": "x92RB2Frg4Bq"
      }
    },
    {
      "cell_type": "code",
      "source": [
        "df.head() #Displays the first 5 rows of the dataset."
      ],
      "metadata": {
        "colab": {
          "base_uri": "https://localhost:8080/",
          "height": 603
        },
        "id": "emaAlFzcglF8",
        "outputId": "9304389f-8281-49eb-f708-f12174a8eced"
      },
      "execution_count": 3,
      "outputs": [
        {
          "output_type": "execute_result",
          "data": {
            "text/plain": [
              "   rank    show_id             title  year  \\\n",
              "0     1  tt5491994   Planet Earth II  2016   \n",
              "1     2  tt0903747      Breaking Bad  2008   \n",
              "2     3  tt0795176      Planet Earth  2006   \n",
              "3     4  tt0185906  Band of Brothers  2001   \n",
              "4     5  tt7366338         Chernobyl  2019   \n",
              "\n",
              "                                   link imbd_votes  imbd_rating certificate  \\\n",
              "0  https://www.imdb.com/title/tt5491994    145,597          9.5        TV-G   \n",
              "1  https://www.imdb.com/title/tt0903747  1,881,190          9.5       TV-MA   \n",
              "2  https://www.imdb.com/title/tt0795176    210,164          9.4       TV-PG   \n",
              "3  https://www.imdb.com/title/tt0185906    469,081          9.4       TV-MA   \n",
              "4  https://www.imdb.com/title/tt7366338    751,884          9.4       TV-MA   \n",
              "\n",
              "  duration                   genre  ...  \\\n",
              "0   4h 58m             Documentary  ...   \n",
              "1      49m    Crime,Drama,Thriller  ...   \n",
              "2   8h 58m             Documentary  ...   \n",
              "3   9h 54m       Drama,History,War  ...   \n",
              "4   5h 30m  Drama,History,Thriller  ...   \n",
              "\n",
              "                                         director_id  \\\n",
              "0  nm1565498,nm3482115,nm4830788,nm1769336,nm2139...   \n",
              "1  nm0533713,nm0002835,nm0319213,nm0118778,nm0806...   \n",
              "2                                nm0288144,nm1768412   \n",
              "3  nm0291205,nm0004121,nm0000158,nm0500896,nm0518...   \n",
              "4                                          nm0719307   \n",
              "\n",
              "                                       director_name  \\\n",
              "0  Justin Anderson,Ed Charles,Fredi Devas,Chadden...   \n",
              "1  Michelle MacLaren,Adam Bernstein,Vince Gilliga...   \n",
              "2                  Alastair Fothergill,Mark Linfield   \n",
              "3  David Frankel,Mikael Salomon,Tom Hanks,David L...   \n",
              "4                                        Johan Renck   \n",
              "\n",
              "                                           writer_id  \\\n",
              "0                                          nm2357454   \n",
              "1  nm0319213,nm0332467,nm2297407,nm1028558,nm0909...   \n",
              "2            nm0041003,nm1761192,nm0288144,nm0662263   \n",
              "3  nm0024421,nm0096897,nm0296861,nm0000158,nm0420...   \n",
              "4                                          nm0563301   \n",
              "\n",
              "                                         writer_name  \\\n",
              "0                                    Elizabeth White   \n",
              "1  Vince Gilligan,Peter Gould,George Mastras,Sam ...   \n",
              "2  David Attenborough,Vanessa Berlowitz,Alastair ...   \n",
              "3  Stephen Ambrose,Erik Bork,E. Max Frye,Tom Hank...   \n",
              "4                                        Craig Mazin   \n",
              "\n",
              "                                           storyline  \\\n",
              "0  David Attenborough returns with a new wildlife...   \n",
              "1  A chemistry teacher diagnosed with inoperable ...   \n",
              "2  Each 50 minute episode features a global overv...   \n",
              "3  The story of Easy Company of the U.S. Army 101...   \n",
              "4  In April 1986, an explosion at the Chernobyl n...   \n",
              "\n",
              "                                             user_id  \\\n",
              "0  ur0362356,ur33816519,ur64238818,ur69264448,ur2...   \n",
              "1  ur128165243,ur6387867,ur158768880,ur20552756,u...   \n",
              "2  ur4445210,ur1002035,ur4344459,ur14156906,ur141...   \n",
              "3  ur0312444,ur3922673,ur1019294,ur6387867,ur2467...   \n",
              "4  ur0482513,ur71468234,ur6387867,ur115536310,ur1...   \n",
              "\n",
              "                                           user_name  \\\n",
              "0  Wentloog,john-m-madsen,thespookybuz,pjdickinso...   \n",
              "1  FiRE010,Supermanfan-13,Lukasmj,TheLittleSongbi...   \n",
              "2  ccthemovieman-1,bob the moo,bs3dc,robert-kamer...   \n",
              "3  rbverhoef,philip_vanderveken,bsmith5552,Superm...   \n",
              "4  Leofwine_draca,jfirebug,Supermanfan-13,DiCapri...   \n",
              "\n",
              "                                           review_id  \\\n",
              "0  rw3575992,rw3576144,rw3578121,rw3576211,rw3577...   \n",
              "1  rw7088846,rw7530139,rw8672131,rw3856786,rw8725...   \n",
              "2  rw2002220,rw1356723,rw1574512,rw1594404,rw1723...   \n",
              "3  rw0626026,rw0626132,rw0625888,rw8123519,rw3248...   \n",
              "4  rw5285929,rw4875873,rw8325723,rw8574390,rw8521...   \n",
              "\n",
              "                                        review_title  \\\n",
              "0  At once awe-inspiring and terrifying!,Yet anot...   \n",
              "1  Really Great,Damn near perfect!,A show you nee...   \n",
              "2  In A Word: Amazing,A visually impressive and m...   \n",
              "3  Excellent,This series is so unbelievably reali...   \n",
              "4  Exemplary,Incredible,Brilliant!,Must Watch!,Pa...   \n",
              "\n",
              "                                      review_content  \n",
              "0  I have just finished watching the first episod...  \n",
              "1  I have never watched a show that is as consist...  \n",
              "2  Thankfully, I caught a couple of these episode...  \n",
              "3  This week I saw three things based on WW-II no...  \n",
              "4  CHERNOBYL is an excellent depiction of the inf...  \n",
              "\n",
              "[5 rows x 22 columns]"
            ],
            "text/html": [
              "\n",
              "  <div id=\"df-f1534db1-d3d7-43ca-8eb5-a886d0a15ed6\" class=\"colab-df-container\">\n",
              "    <div>\n",
              "<style scoped>\n",
              "    .dataframe tbody tr th:only-of-type {\n",
              "        vertical-align: middle;\n",
              "    }\n",
              "\n",
              "    .dataframe tbody tr th {\n",
              "        vertical-align: top;\n",
              "    }\n",
              "\n",
              "    .dataframe thead th {\n",
              "        text-align: right;\n",
              "    }\n",
              "</style>\n",
              "<table border=\"1\" class=\"dataframe\">\n",
              "  <thead>\n",
              "    <tr style=\"text-align: right;\">\n",
              "      <th></th>\n",
              "      <th>rank</th>\n",
              "      <th>show_id</th>\n",
              "      <th>title</th>\n",
              "      <th>year</th>\n",
              "      <th>link</th>\n",
              "      <th>imbd_votes</th>\n",
              "      <th>imbd_rating</th>\n",
              "      <th>certificate</th>\n",
              "      <th>duration</th>\n",
              "      <th>genre</th>\n",
              "      <th>...</th>\n",
              "      <th>director_id</th>\n",
              "      <th>director_name</th>\n",
              "      <th>writer_id</th>\n",
              "      <th>writer_name</th>\n",
              "      <th>storyline</th>\n",
              "      <th>user_id</th>\n",
              "      <th>user_name</th>\n",
              "      <th>review_id</th>\n",
              "      <th>review_title</th>\n",
              "      <th>review_content</th>\n",
              "    </tr>\n",
              "  </thead>\n",
              "  <tbody>\n",
              "    <tr>\n",
              "      <th>0</th>\n",
              "      <td>1</td>\n",
              "      <td>tt5491994</td>\n",
              "      <td>Planet Earth II</td>\n",
              "      <td>2016</td>\n",
              "      <td>https://www.imdb.com/title/tt5491994</td>\n",
              "      <td>145,597</td>\n",
              "      <td>9.5</td>\n",
              "      <td>TV-G</td>\n",
              "      <td>4h 58m</td>\n",
              "      <td>Documentary</td>\n",
              "      <td>...</td>\n",
              "      <td>nm1565498,nm3482115,nm4830788,nm1769336,nm2139...</td>\n",
              "      <td>Justin Anderson,Ed Charles,Fredi Devas,Chadden...</td>\n",
              "      <td>nm2357454</td>\n",
              "      <td>Elizabeth White</td>\n",
              "      <td>David Attenborough returns with a new wildlife...</td>\n",
              "      <td>ur0362356,ur33816519,ur64238818,ur69264448,ur2...</td>\n",
              "      <td>Wentloog,john-m-madsen,thespookybuz,pjdickinso...</td>\n",
              "      <td>rw3575992,rw3576144,rw3578121,rw3576211,rw3577...</td>\n",
              "      <td>At once awe-inspiring and terrifying!,Yet anot...</td>\n",
              "      <td>I have just finished watching the first episod...</td>\n",
              "    </tr>\n",
              "    <tr>\n",
              "      <th>1</th>\n",
              "      <td>2</td>\n",
              "      <td>tt0903747</td>\n",
              "      <td>Breaking Bad</td>\n",
              "      <td>2008</td>\n",
              "      <td>https://www.imdb.com/title/tt0903747</td>\n",
              "      <td>1,881,190</td>\n",
              "      <td>9.5</td>\n",
              "      <td>TV-MA</td>\n",
              "      <td>49m</td>\n",
              "      <td>Crime,Drama,Thriller</td>\n",
              "      <td>...</td>\n",
              "      <td>nm0533713,nm0002835,nm0319213,nm0118778,nm0806...</td>\n",
              "      <td>Michelle MacLaren,Adam Bernstein,Vince Gilliga...</td>\n",
              "      <td>nm0319213,nm0332467,nm2297407,nm1028558,nm0909...</td>\n",
              "      <td>Vince Gilligan,Peter Gould,George Mastras,Sam ...</td>\n",
              "      <td>A chemistry teacher diagnosed with inoperable ...</td>\n",
              "      <td>ur128165243,ur6387867,ur158768880,ur20552756,u...</td>\n",
              "      <td>FiRE010,Supermanfan-13,Lukasmj,TheLittleSongbi...</td>\n",
              "      <td>rw7088846,rw7530139,rw8672131,rw3856786,rw8725...</td>\n",
              "      <td>Really Great,Damn near perfect!,A show you nee...</td>\n",
              "      <td>I have never watched a show that is as consist...</td>\n",
              "    </tr>\n",
              "    <tr>\n",
              "      <th>2</th>\n",
              "      <td>3</td>\n",
              "      <td>tt0795176</td>\n",
              "      <td>Planet Earth</td>\n",
              "      <td>2006</td>\n",
              "      <td>https://www.imdb.com/title/tt0795176</td>\n",
              "      <td>210,164</td>\n",
              "      <td>9.4</td>\n",
              "      <td>TV-PG</td>\n",
              "      <td>8h 58m</td>\n",
              "      <td>Documentary</td>\n",
              "      <td>...</td>\n",
              "      <td>nm0288144,nm1768412</td>\n",
              "      <td>Alastair Fothergill,Mark Linfield</td>\n",
              "      <td>nm0041003,nm1761192,nm0288144,nm0662263</td>\n",
              "      <td>David Attenborough,Vanessa Berlowitz,Alastair ...</td>\n",
              "      <td>Each 50 minute episode features a global overv...</td>\n",
              "      <td>ur4445210,ur1002035,ur4344459,ur14156906,ur141...</td>\n",
              "      <td>ccthemovieman-1,bob the moo,bs3dc,robert-kamer...</td>\n",
              "      <td>rw2002220,rw1356723,rw1574512,rw1594404,rw1723...</td>\n",
              "      <td>In A Word: Amazing,A visually impressive and m...</td>\n",
              "      <td>Thankfully, I caught a couple of these episode...</td>\n",
              "    </tr>\n",
              "    <tr>\n",
              "      <th>3</th>\n",
              "      <td>4</td>\n",
              "      <td>tt0185906</td>\n",
              "      <td>Band of Brothers</td>\n",
              "      <td>2001</td>\n",
              "      <td>https://www.imdb.com/title/tt0185906</td>\n",
              "      <td>469,081</td>\n",
              "      <td>9.4</td>\n",
              "      <td>TV-MA</td>\n",
              "      <td>9h 54m</td>\n",
              "      <td>Drama,History,War</td>\n",
              "      <td>...</td>\n",
              "      <td>nm0291205,nm0004121,nm0000158,nm0500896,nm0518...</td>\n",
              "      <td>David Frankel,Mikael Salomon,Tom Hanks,David L...</td>\n",
              "      <td>nm0024421,nm0096897,nm0296861,nm0000158,nm0420...</td>\n",
              "      <td>Stephen Ambrose,Erik Bork,E. Max Frye,Tom Hank...</td>\n",
              "      <td>The story of Easy Company of the U.S. Army 101...</td>\n",
              "      <td>ur0312444,ur3922673,ur1019294,ur6387867,ur2467...</td>\n",
              "      <td>rbverhoef,philip_vanderveken,bsmith5552,Superm...</td>\n",
              "      <td>rw0626026,rw0626132,rw0625888,rw8123519,rw3248...</td>\n",
              "      <td>Excellent,This series is so unbelievably reali...</td>\n",
              "      <td>This week I saw three things based on WW-II no...</td>\n",
              "    </tr>\n",
              "    <tr>\n",
              "      <th>4</th>\n",
              "      <td>5</td>\n",
              "      <td>tt7366338</td>\n",
              "      <td>Chernobyl</td>\n",
              "      <td>2019</td>\n",
              "      <td>https://www.imdb.com/title/tt7366338</td>\n",
              "      <td>751,884</td>\n",
              "      <td>9.4</td>\n",
              "      <td>TV-MA</td>\n",
              "      <td>5h 30m</td>\n",
              "      <td>Drama,History,Thriller</td>\n",
              "      <td>...</td>\n",
              "      <td>nm0719307</td>\n",
              "      <td>Johan Renck</td>\n",
              "      <td>nm0563301</td>\n",
              "      <td>Craig Mazin</td>\n",
              "      <td>In April 1986, an explosion at the Chernobyl n...</td>\n",
              "      <td>ur0482513,ur71468234,ur6387867,ur115536310,ur1...</td>\n",
              "      <td>Leofwine_draca,jfirebug,Supermanfan-13,DiCapri...</td>\n",
              "      <td>rw5285929,rw4875873,rw8325723,rw8574390,rw8521...</td>\n",
              "      <td>Exemplary,Incredible,Brilliant!,Must Watch!,Pa...</td>\n",
              "      <td>CHERNOBYL is an excellent depiction of the inf...</td>\n",
              "    </tr>\n",
              "  </tbody>\n",
              "</table>\n",
              "<p>5 rows × 22 columns</p>\n",
              "</div>\n",
              "    <div class=\"colab-df-buttons\">\n",
              "\n",
              "  <div class=\"colab-df-container\">\n",
              "    <button class=\"colab-df-convert\" onclick=\"convertToInteractive('df-f1534db1-d3d7-43ca-8eb5-a886d0a15ed6')\"\n",
              "            title=\"Convert this dataframe to an interactive table.\"\n",
              "            style=\"display:none;\">\n",
              "\n",
              "  <svg xmlns=\"http://www.w3.org/2000/svg\" height=\"24px\" viewBox=\"0 -960 960 960\">\n",
              "    <path d=\"M120-120v-720h720v720H120Zm60-500h600v-160H180v160Zm220 220h160v-160H400v160Zm0 220h160v-160H400v160ZM180-400h160v-160H180v160Zm440 0h160v-160H620v160ZM180-180h160v-160H180v160Zm440 0h160v-160H620v160Z\"/>\n",
              "  </svg>\n",
              "    </button>\n",
              "\n",
              "  <style>\n",
              "    .colab-df-container {\n",
              "      display:flex;\n",
              "      gap: 12px;\n",
              "    }\n",
              "\n",
              "    .colab-df-convert {\n",
              "      background-color: #E8F0FE;\n",
              "      border: none;\n",
              "      border-radius: 50%;\n",
              "      cursor: pointer;\n",
              "      display: none;\n",
              "      fill: #1967D2;\n",
              "      height: 32px;\n",
              "      padding: 0 0 0 0;\n",
              "      width: 32px;\n",
              "    }\n",
              "\n",
              "    .colab-df-convert:hover {\n",
              "      background-color: #E2EBFA;\n",
              "      box-shadow: 0px 1px 2px rgba(60, 64, 67, 0.3), 0px 1px 3px 1px rgba(60, 64, 67, 0.15);\n",
              "      fill: #174EA6;\n",
              "    }\n",
              "\n",
              "    .colab-df-buttons div {\n",
              "      margin-bottom: 4px;\n",
              "    }\n",
              "\n",
              "    [theme=dark] .colab-df-convert {\n",
              "      background-color: #3B4455;\n",
              "      fill: #D2E3FC;\n",
              "    }\n",
              "\n",
              "    [theme=dark] .colab-df-convert:hover {\n",
              "      background-color: #434B5C;\n",
              "      box-shadow: 0px 1px 3px 1px rgba(0, 0, 0, 0.15);\n",
              "      filter: drop-shadow(0px 1px 2px rgba(0, 0, 0, 0.3));\n",
              "      fill: #FFFFFF;\n",
              "    }\n",
              "  </style>\n",
              "\n",
              "    <script>\n",
              "      const buttonEl =\n",
              "        document.querySelector('#df-f1534db1-d3d7-43ca-8eb5-a886d0a15ed6 button.colab-df-convert');\n",
              "      buttonEl.style.display =\n",
              "        google.colab.kernel.accessAllowed ? 'block' : 'none';\n",
              "\n",
              "      async function convertToInteractive(key) {\n",
              "        const element = document.querySelector('#df-f1534db1-d3d7-43ca-8eb5-a886d0a15ed6');\n",
              "        const dataTable =\n",
              "          await google.colab.kernel.invokeFunction('convertToInteractive',\n",
              "                                                    [key], {});\n",
              "        if (!dataTable) return;\n",
              "\n",
              "        const docLinkHtml = 'Like what you see? Visit the ' +\n",
              "          '<a target=\"_blank\" href=https://colab.research.google.com/notebooks/data_table.ipynb>data table notebook</a>'\n",
              "          + ' to learn more about interactive tables.';\n",
              "        element.innerHTML = '';\n",
              "        dataTable['output_type'] = 'display_data';\n",
              "        await google.colab.output.renderOutput(dataTable, element);\n",
              "        const docLink = document.createElement('div');\n",
              "        docLink.innerHTML = docLinkHtml;\n",
              "        element.appendChild(docLink);\n",
              "      }\n",
              "    </script>\n",
              "  </div>\n",
              "\n",
              "\n",
              "<div id=\"df-9be2ecb7-a9e3-47c9-a13f-c0cfbe7554e4\">\n",
              "  <button class=\"colab-df-quickchart\" onclick=\"quickchart('df-9be2ecb7-a9e3-47c9-a13f-c0cfbe7554e4')\"\n",
              "            title=\"Suggest charts\"\n",
              "            style=\"display:none;\">\n",
              "\n",
              "<svg xmlns=\"http://www.w3.org/2000/svg\" height=\"24px\"viewBox=\"0 0 24 24\"\n",
              "     width=\"24px\">\n",
              "    <g>\n",
              "        <path d=\"M19 3H5c-1.1 0-2 .9-2 2v14c0 1.1.9 2 2 2h14c1.1 0 2-.9 2-2V5c0-1.1-.9-2-2-2zM9 17H7v-7h2v7zm4 0h-2V7h2v10zm4 0h-2v-4h2v4z\"/>\n",
              "    </g>\n",
              "</svg>\n",
              "  </button>\n",
              "\n",
              "<style>\n",
              "  .colab-df-quickchart {\n",
              "      --bg-color: #E8F0FE;\n",
              "      --fill-color: #1967D2;\n",
              "      --hover-bg-color: #E2EBFA;\n",
              "      --hover-fill-color: #174EA6;\n",
              "      --disabled-fill-color: #AAA;\n",
              "      --disabled-bg-color: #DDD;\n",
              "  }\n",
              "\n",
              "  [theme=dark] .colab-df-quickchart {\n",
              "      --bg-color: #3B4455;\n",
              "      --fill-color: #D2E3FC;\n",
              "      --hover-bg-color: #434B5C;\n",
              "      --hover-fill-color: #FFFFFF;\n",
              "      --disabled-bg-color: #3B4455;\n",
              "      --disabled-fill-color: #666;\n",
              "  }\n",
              "\n",
              "  .colab-df-quickchart {\n",
              "    background-color: var(--bg-color);\n",
              "    border: none;\n",
              "    border-radius: 50%;\n",
              "    cursor: pointer;\n",
              "    display: none;\n",
              "    fill: var(--fill-color);\n",
              "    height: 32px;\n",
              "    padding: 0;\n",
              "    width: 32px;\n",
              "  }\n",
              "\n",
              "  .colab-df-quickchart:hover {\n",
              "    background-color: var(--hover-bg-color);\n",
              "    box-shadow: 0 1px 2px rgba(60, 64, 67, 0.3), 0 1px 3px 1px rgba(60, 64, 67, 0.15);\n",
              "    fill: var(--button-hover-fill-color);\n",
              "  }\n",
              "\n",
              "  .colab-df-quickchart-complete:disabled,\n",
              "  .colab-df-quickchart-complete:disabled:hover {\n",
              "    background-color: var(--disabled-bg-color);\n",
              "    fill: var(--disabled-fill-color);\n",
              "    box-shadow: none;\n",
              "  }\n",
              "\n",
              "  .colab-df-spinner {\n",
              "    border: 2px solid var(--fill-color);\n",
              "    border-color: transparent;\n",
              "    border-bottom-color: var(--fill-color);\n",
              "    animation:\n",
              "      spin 1s steps(1) infinite;\n",
              "  }\n",
              "\n",
              "  @keyframes spin {\n",
              "    0% {\n",
              "      border-color: transparent;\n",
              "      border-bottom-color: var(--fill-color);\n",
              "      border-left-color: var(--fill-color);\n",
              "    }\n",
              "    20% {\n",
              "      border-color: transparent;\n",
              "      border-left-color: var(--fill-color);\n",
              "      border-top-color: var(--fill-color);\n",
              "    }\n",
              "    30% {\n",
              "      border-color: transparent;\n",
              "      border-left-color: var(--fill-color);\n",
              "      border-top-color: var(--fill-color);\n",
              "      border-right-color: var(--fill-color);\n",
              "    }\n",
              "    40% {\n",
              "      border-color: transparent;\n",
              "      border-right-color: var(--fill-color);\n",
              "      border-top-color: var(--fill-color);\n",
              "    }\n",
              "    60% {\n",
              "      border-color: transparent;\n",
              "      border-right-color: var(--fill-color);\n",
              "    }\n",
              "    80% {\n",
              "      border-color: transparent;\n",
              "      border-right-color: var(--fill-color);\n",
              "      border-bottom-color: var(--fill-color);\n",
              "    }\n",
              "    90% {\n",
              "      border-color: transparent;\n",
              "      border-bottom-color: var(--fill-color);\n",
              "    }\n",
              "  }\n",
              "</style>\n",
              "\n",
              "  <script>\n",
              "    async function quickchart(key) {\n",
              "      const quickchartButtonEl =\n",
              "        document.querySelector('#' + key + ' button');\n",
              "      quickchartButtonEl.disabled = true;  // To prevent multiple clicks.\n",
              "      quickchartButtonEl.classList.add('colab-df-spinner');\n",
              "      try {\n",
              "        const charts = await google.colab.kernel.invokeFunction(\n",
              "            'suggestCharts', [key], {});\n",
              "      } catch (error) {\n",
              "        console.error('Error during call to suggestCharts:', error);\n",
              "      }\n",
              "      quickchartButtonEl.classList.remove('colab-df-spinner');\n",
              "      quickchartButtonEl.classList.add('colab-df-quickchart-complete');\n",
              "    }\n",
              "    (() => {\n",
              "      let quickchartButtonEl =\n",
              "        document.querySelector('#df-9be2ecb7-a9e3-47c9-a13f-c0cfbe7554e4 button');\n",
              "      quickchartButtonEl.style.display =\n",
              "        google.colab.kernel.accessAllowed ? 'block' : 'none';\n",
              "    })();\n",
              "  </script>\n",
              "</div>\n",
              "\n",
              "    </div>\n",
              "  </div>\n"
            ],
            "application/vnd.google.colaboratory.intrinsic+json": {
              "type": "dataframe",
              "variable_name": "df"
            }
          },
          "metadata": {},
          "execution_count": 3
        }
      ]
    },
    {
      "cell_type": "markdown",
      "source": [
        "##Exploring the Data:\n",
        "###Understanding the dataset by exploring its structure and contents."
      ],
      "metadata": {
        "id": "5aGN0AHVheyd"
      }
    },
    {
      "cell_type": "code",
      "source": [
        "df.columns # Displays the names of the columns"
      ],
      "metadata": {
        "colab": {
          "base_uri": "https://localhost:8080/"
        },
        "id": "necYucW4g_w4",
        "outputId": "d11db0c1-9e66-41c4-b41c-900b2d1e1e26"
      },
      "execution_count": 4,
      "outputs": [
        {
          "output_type": "execute_result",
          "data": {
            "text/plain": [
              "Index(['rank', 'show_id', 'title', 'year', 'link', 'imbd_votes', 'imbd_rating',\n",
              "       'certificate', 'duration', 'genre', 'cast_id', 'cast_name',\n",
              "       'director_id', 'director_name', 'writer_id', 'writer_name', 'storyline',\n",
              "       'user_id', 'user_name', 'review_id', 'review_title', 'review_content'],\n",
              "      dtype='object')"
            ]
          },
          "metadata": {},
          "execution_count": 4
        }
      ]
    },
    {
      "cell_type": "code",
      "source": [
        "df.shape # Displays the total count of the Rows and Columns respectively."
      ],
      "metadata": {
        "colab": {
          "base_uri": "https://localhost:8080/"
        },
        "id": "pVaFOlmDhm50",
        "outputId": "b182d684-92f9-4495-8cb0-9b1488961176"
      },
      "execution_count": 5,
      "outputs": [
        {
          "output_type": "execute_result",
          "data": {
            "text/plain": [
              "(250, 22)"
            ]
          },
          "metadata": {},
          "execution_count": 5
        }
      ]
    },
    {
      "cell_type": "code",
      "source": [
        "df.info() #Displays the total count of values present in the particular column along with the null count and data type."
      ],
      "metadata": {
        "colab": {
          "base_uri": "https://localhost:8080/"
        },
        "id": "F1Mw9UbshvsF",
        "outputId": "1afa9691-61c1-41db-ec95-7ee3b618fe34"
      },
      "execution_count": 6,
      "outputs": [
        {
          "output_type": "stream",
          "name": "stdout",
          "text": [
            "<class 'pandas.core.frame.DataFrame'>\n",
            "RangeIndex: 250 entries, 0 to 249\n",
            "Data columns (total 22 columns):\n",
            " #   Column          Non-Null Count  Dtype  \n",
            "---  ------          --------------  -----  \n",
            " 0   rank            250 non-null    int64  \n",
            " 1   show_id         250 non-null    object \n",
            " 2   title           250 non-null    object \n",
            " 3   year            250 non-null    int64  \n",
            " 4   link            250 non-null    object \n",
            " 5   imbd_votes      250 non-null    object \n",
            " 6   imbd_rating     250 non-null    float64\n",
            " 7   certificate     246 non-null    object \n",
            " 8   duration        249 non-null    object \n",
            " 9   genre           250 non-null    object \n",
            " 10  cast_id         250 non-null    object \n",
            " 11  cast_name       250 non-null    object \n",
            " 12  director_id     250 non-null    object \n",
            " 13  director_name   250 non-null    object \n",
            " 14  writer_id       250 non-null    object \n",
            " 15  writer_name     250 non-null    object \n",
            " 16  storyline       250 non-null    object \n",
            " 17  user_id         250 non-null    object \n",
            " 18  user_name       250 non-null    object \n",
            " 19  review_id       250 non-null    object \n",
            " 20  review_title    250 non-null    object \n",
            " 21  review_content  250 non-null    object \n",
            "dtypes: float64(1), int64(2), object(19)\n",
            "memory usage: 43.1+ KB\n"
          ]
        }
      ]
    },
    {
      "cell_type": "markdown",
      "source": [
        "##Data Cleaning:\n",
        "###Checking for missing values, duplicates, or any inconsistencies and clean the data accordingly."
      ],
      "metadata": {
        "id": "J7XuYq4yh64O"
      }
    },
    {
      "cell_type": "code",
      "source": [
        "df.isnull().sum()"
      ],
      "metadata": {
        "colab": {
          "base_uri": "https://localhost:8080/"
        },
        "id": "Qr2qrIU0h282",
        "outputId": "49d7b174-e0b7-4898-fa1e-bbde32deecbc"
      },
      "execution_count": 7,
      "outputs": [
        {
          "output_type": "execute_result",
          "data": {
            "text/plain": [
              "rank              0\n",
              "show_id           0\n",
              "title             0\n",
              "year              0\n",
              "link              0\n",
              "imbd_votes        0\n",
              "imbd_rating       0\n",
              "certificate       4\n",
              "duration          1\n",
              "genre             0\n",
              "cast_id           0\n",
              "cast_name         0\n",
              "director_id       0\n",
              "director_name     0\n",
              "writer_id         0\n",
              "writer_name       0\n",
              "storyline         0\n",
              "user_id           0\n",
              "user_name         0\n",
              "review_id         0\n",
              "review_title      0\n",
              "review_content    0\n",
              "dtype: int64"
            ]
          },
          "metadata": {},
          "execution_count": 7
        }
      ]
    },
    {
      "cell_type": "markdown",
      "source": [
        "As we can check there is only 4 null value in the certificate column and duration has 1 null value. As the count of the null value is much less, we can drop the null value as it will not affect the the out come as what we want to predict."
      ],
      "metadata": {
        "id": "u9qOFoKiiK7v"
      }
    },
    {
      "cell_type": "code",
      "source": [
        "df = df.dropna() #Dropping the null values in the dataset."
      ],
      "metadata": {
        "id": "uY7Qe7dliAKo"
      },
      "execution_count": 8,
      "outputs": []
    },
    {
      "cell_type": "code",
      "source": [
        "df.isnull().sum() #Displays the total count of the null values in the particular columns."
      ],
      "metadata": {
        "colab": {
          "base_uri": "https://localhost:8080/"
        },
        "id": "Coba1ApFiFzw",
        "outputId": "22be16c8-e4c5-43e0-f7cc-f833ca10787a"
      },
      "execution_count": 9,
      "outputs": [
        {
          "output_type": "execute_result",
          "data": {
            "text/plain": [
              "rank              0\n",
              "show_id           0\n",
              "title             0\n",
              "year              0\n",
              "link              0\n",
              "imbd_votes        0\n",
              "imbd_rating       0\n",
              "certificate       0\n",
              "duration          0\n",
              "genre             0\n",
              "cast_id           0\n",
              "cast_name         0\n",
              "director_id       0\n",
              "director_name     0\n",
              "writer_id         0\n",
              "writer_name       0\n",
              "storyline         0\n",
              "user_id           0\n",
              "user_name         0\n",
              "review_id         0\n",
              "review_title      0\n",
              "review_content    0\n",
              "dtype: int64"
            ]
          },
          "metadata": {},
          "execution_count": 9
        }
      ]
    },
    {
      "cell_type": "markdown",
      "source": [
        "Now there is no null value in the dataset."
      ],
      "metadata": {
        "id": "iIq6CgWpimYB"
      }
    },
    {
      "cell_type": "code",
      "source": [
        "df.drop_duplicates(inplace=True) #Dropping the duplicate values in the dataset."
      ],
      "metadata": {
        "id": "9XN-2HC8ijgE"
      },
      "execution_count": 10,
      "outputs": []
    },
    {
      "cell_type": "code",
      "source": [
        "import pandas as pd\n",
        "from sklearn.preprocessing import StandardScaler, OneHotEncoder\n"
      ],
      "metadata": {
        "id": "tFigEGWjjoiU"
      },
      "execution_count": 11,
      "outputs": []
    },
    {
      "cell_type": "markdown",
      "source": [
        "#Content-Based Filtering:\n",
        "\n"
      ],
      "metadata": {
        "id": "kUcCHmFXkxGJ"
      }
    },
    {
      "cell_type": "markdown",
      "source": [
        "Normalizing the ratings using StandardScaler ensures that the ratings are on a comparable scale, leading to improved performance and stability of the recommendation system"
      ],
      "metadata": {
        "id": "R0IelTMl0uDK"
      }
    },
    {
      "cell_type": "code",
      "source": [
        "# Normalize ratings\n",
        "scaler = StandardScaler()\n",
        "df['normalized_rating'] = scaler.fit_transform(df[['imbd_rating']])"
      ],
      "metadata": {
        "id": "9J_vjt6Fiq6t"
      },
      "execution_count": 12,
      "outputs": []
    },
    {
      "cell_type": "code",
      "source": [
        "from sklearn.feature_extraction.text import TfidfVectorizer\n",
        "from sklearn.metrics.pairwise import cosine_similarity"
      ],
      "metadata": {
        "id": "097SURhLjjZk"
      },
      "execution_count": 13,
      "outputs": []
    },
    {
      "cell_type": "markdown",
      "source": [
        "###The code snippet tfidf = TfidfVectorizer(stop_words='english'); tfidf_matrix = tfidf.fit_transform(df['genre']) is part of the process to convert text data into numerical features that can be used in machine learning models.\n",
        "###TF-IDF Vectorization\n",
        "###TF-IDF stands for Term Frequency-Inverse Document Frequency. It is a statistical measure used to evaluate the importance of a word in a document relative to a collection of documents (or corpus). The importance increases proportionally to the number of times a word appears in the document but is offset by the frequency of the word in the corpus."
      ],
      "metadata": {
        "id": "uk73R6Q53PcM"
      }
    },
    {
      "cell_type": "code",
      "source": [
        "# Feature extraction\n",
        "tfidf = TfidfVectorizer(stop_words='english') #This creates an instance of TfidfVectorizer that will ignore common English stop words.\n",
        "tfidf_matrix = tfidf.fit_transform(df['genre'])"
      ],
      "metadata": {
        "id": "J3tI7BUkj-ug"
      },
      "execution_count": 14,
      "outputs": []
    },
    {
      "cell_type": "markdown",
      "source": [
        "###fit_transform(df['genre']) does two things:\n",
        "###Fit: It learns the vocabulary from the genre column, determining the term frequency and document frequency for each term in the genres.\n",
        "###Transform: It then converts each genre string into a TF-IDF vector. Each row in the resulting tfidf_matrix corresponds to a show, and each column corresponds to a term from the genre data, with the cell values representing the TF-IDF scores.\n"
      ],
      "metadata": {
        "id": "DOvf8l9M3ssd"
      }
    },
    {
      "cell_type": "code",
      "source": [
        "# Calculate similarity\n",
        "cosine_sim = cosine_similarity(tfidf_matrix, tfidf_matrix)"
      ],
      "metadata": {
        "id": "B3sYqBUWkBF4"
      },
      "execution_count": 15,
      "outputs": []
    },
    {
      "cell_type": "markdown",
      "source": [
        "###The cosine_similarity function takes two matrices as input and computes the cosine similarity between the rows of these matrices.\n",
        "###By passing tfidf_matrix twice, you compute the similarity between every pair of shows in the dataset."
      ],
      "metadata": {
        "id": "pjMgmipL4zlx"
      }
    },
    {
      "cell_type": "code",
      "source": [
        "# Function to get recommendations\n",
        "def get_recommendations(title, cosine_sim=cosine_sim): #title: The title of the show for which we want to get recommendations. cosine_sim: The precomputed cosine similarity matrix (default value is cosine_sim).\n",
        "    idx = df[df['title'] == title].index[0] #This line finds the index of the show with the given title in the DataFrame df.\n",
        "    sim_scores = list(enumerate(cosine_sim[idx])) #This line retrieves the cosine similarity scores for the show at index idx from the cosine_sim matrix.\n",
        "    sim_scores = sorted(sim_scores, key=lambda x: x[1], reverse=True) #This line sorts the list of similarity scores in descending order based on the similarity score.\n",
        "    sim_scores = sim_scores[1:11] #This line selects the top 10 most similar shows, excluding the first one\n",
        "    show_indices = [i[0] for i in sim_scores] #This line extracts the indices of the top 10 similar shows from the sim_scores list.\n",
        "    return df['title'].iloc[show_indices] #This line returns the titles of the shows corresponding to the extracted indices."
      ],
      "metadata": {
        "id": "yMfR9Y5EkINh"
      },
      "execution_count": 16,
      "outputs": []
    },
    {
      "cell_type": "code",
      "source": [
        "recommendations = get_recommendations('Planet Earth') #As we input the name of the show, we get the reccomendations.\n",
        "recommendations\n"
      ],
      "metadata": {
        "colab": {
          "base_uri": "https://localhost:8080/"
        },
        "id": "VvI4NHnLkOSS",
        "outputId": "89ff6f6e-c189-4e29-d5bc-3858cddf6dd8"
      },
      "execution_count": 17,
      "outputs": [
        {
          "output_type": "execute_result",
          "data": {
            "text/plain": [
              "2                    Planet Earth\n",
              "6                  Blue Planet II\n",
              "8     Cosmos: A Spacetime Odyssey\n",
              "10                         Cosmos\n",
              "11                     Our Planet\n",
              "17                           Life\n",
              "25                The Blue Planet\n",
              "29                   Human Planet\n",
              "30                  Frozen Planet\n",
              "50                         Africa\n",
              "Name: title, dtype: object"
            ]
          },
          "metadata": {},
          "execution_count": 17
        }
      ]
    },
    {
      "cell_type": "code",
      "source": [
        "recommendations = get_recommendations('Chernobyl') #As we input the name of the movie, we get the reccomendations.\n",
        "recommendations\n"
      ],
      "metadata": {
        "colab": {
          "base_uri": "https://localhost:8080/"
        },
        "id": "wTOLu3gzkeOE",
        "outputId": "e21741ac-1600-4c19-ba6a-49d00b1ae2d4"
      },
      "execution_count": 18,
      "outputs": [
        {
          "output_type": "execute_result",
          "data": {
            "text/plain": [
              "242                     The Knick\n",
              "185                    The Bureau\n",
              "133                    It's a Sin\n",
              "217    From the Earth to the Moon\n",
              "114                    Mahabharat\n",
              "119                      Deadwood\n",
              "1                    Breaking Bad\n",
              "5                        The Wire\n",
              "41                          Fargo\n",
              "80                             Oz\n",
              "Name: title, dtype: object"
            ]
          },
          "metadata": {},
          "execution_count": 18
        }
      ]
    }
  ]
}